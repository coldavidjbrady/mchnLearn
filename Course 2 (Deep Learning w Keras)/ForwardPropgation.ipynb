{
 "cells": [
  {
   "cell_type": "markdown",
   "metadata": {},
   "source": [
    "<a href=\"https://cognitiveclass.ai/?utm_medium=Exinfluencer&utm_source=Exinfluencer&utm_content=000026UJ&utm_term=10006555&utm_id=NA-SkillsNetwork-Channel-SkillsNetworkCoursesIBMDeveloperSkillsNetworkDL0101ENSkillsNetwork945-2022-01-01\"><img src=\"https://cf-courses-data.s3.us.cloud-object-storage.appdomain.cloud/IBMDeveloperSkillsNetwork-DL0101EN-SkillsNetwork/images/IDSN-logo.png\" width=\"400\"> </a>\n",
    "\n",
    "<h1 align=center><font size = 5>Artificial Neural Networks - Forward Propagation</font></h1>\n"
   ]
  },
  {
   "cell_type": "markdown",
   "metadata": {},
   "source": [
    "## Introduction\n"
   ]
  },
  {
   "cell_type": "markdown",
   "metadata": {},
   "source": [
    "In this lab, we will build a neural network from scratch and code how it performs predictions using forward propagation. Please note that all deep learning libraries have the entire training and prediction processes implemented, and so in practice you wouldn't really need to build a neural network from scratch. However, hopefully completing this lab will help you understand neural networks and how they work even better.\n"
   ]
  },
  {
   "cell_type": "markdown",
   "metadata": {},
   "source": [
    "<h2>Artificial Neural Networks - Forward Propagation</h2>\n",
    "\n",
    "<h3>Objective for this Notebook<h3>    \n",
    "<h5> 1. Initalize a Network</h5>\n",
    "<h5> 2. Compute Weighted Sum at Each Node. </h5>\n",
    "<h5> 3. Compute Node Activation </h5>\n",
    "<h5> 4. Access your <b>Flask</b> app via a webpage anywhere using a custom link. </h5>     \n",
    "\n"
   ]
  },
  {
   "cell_type": "markdown",
   "metadata": {},
   "source": [
    "## Table of Contents\n",
    "\n",
    "<div class=\"alert alert-block alert-info\" style=\"margin-top: 20px\">\n",
    "\n",
    "<font size = 3>    \n",
    "\n",
    "1. <a href=\"#item11\">Recap</a>\n",
    "2. <a href=\"#item12\">Initalize a Network</a>  \n",
    "3. <a href=\"#item13\">Compute Weighted Sum at Each Node</a>  \n",
    "4. <a href=\"#item14\">Compute Node Activation</a>  \n",
    "5. <a href=\"#item15\">Forward Propagation</a>\n",
    "\n",
    "</font>\n",
    "    \n",
    "</div>\n"
   ]
  },
  {
   "cell_type": "markdown",
   "metadata": {},
   "source": [
    "   \n"
   ]
  },
  {
   "cell_type": "markdown",
   "metadata": {},
   "source": [
    "<a id=\"item1\"></a>\n"
   ]
  },
  {
   "cell_type": "markdown",
   "metadata": {},
   "source": [
    "<a id='item11'></a>\n"
   ]
  },
  {
   "cell_type": "markdown",
   "metadata": {},
   "source": [
    "# Recap\n"
   ]
  },
  {
   "cell_type": "markdown",
   "metadata": {},
   "source": [
    "From the videos, let's recap how a neural network makes predictions through the forward propagation process. Here is a neural network that takes two inputs, has one hidden layer with two nodes, and an output layer with one node.\n"
   ]
  },
  {
   "cell_type": "markdown",
   "metadata": {},
   "source": [
    "   \n"
   ]
  },
  {
   "cell_type": "markdown",
   "metadata": {},
   "source": [
    "<img src=\"http://cocl.us/neural_network_example\" alt=\"Neural Network Example\" width=\"600px\">\n"
   ]
  },
  {
   "cell_type": "markdown",
   "metadata": {},
   "source": [
    "  \n"
   ]
  },
  {
   "cell_type": "markdown",
   "metadata": {},
   "source": [
    "Let's start by randomly initializing the weights and the biases in the network. We have 6 weights and 3 biases, one for each node in the hidden layer as well as for each node in the output layer.\n"
   ]
  },
  {
   "cell_type": "code",
   "metadata": {
    "ExecuteTime": {
     "end_time": "2025-02-23T06:17:18.152363Z",
     "start_time": "2025-02-23T06:17:18.150569Z"
    }
   },
   "source": [
    "# All Libraries required for this lab are listed below. The libraries pre-installed on Skills Network Labs are commented. \n",
    "# If you run this notebook on a different environment, e.g. your desktop, you may need to uncomment and install certain libraries.\n",
    "\n",
    "#!pip install numpy==1.21.4"
   ],
   "outputs": [],
   "execution_count": 143
  },
  {
   "cell_type": "code",
   "metadata": {
    "ExecuteTime": {
     "end_time": "2025-02-23T06:17:18.740967Z",
     "start_time": "2025-02-23T06:17:18.738885Z"
    }
   },
   "source": [
    "import numpy as np # import Numpy library to generate \n",
    "\n",
    "weights = np.around(np.random.uniform(size=6), decimals=2) # initialize the weights\n",
    "biases = np.around(np.random.uniform(size=3), decimals=2) # initialize the biases"
   ],
   "outputs": [],
   "execution_count": 144
  },
  {
   "cell_type": "markdown",
   "metadata": {},
   "source": [
    "Let's print the weights and biases for sanity check.\n"
   ]
  },
  {
   "cell_type": "code",
   "metadata": {
    "ExecuteTime": {
     "end_time": "2025-02-23T06:17:20.071139Z",
     "start_time": "2025-02-23T06:17:20.068517Z"
    }
   },
   "source": [
    "print(weights)\n",
    "print(biases)"
   ],
   "outputs": [
    {
     "name": "stdout",
     "output_type": "stream",
     "text": [
      "[0.03 0.75 0.62 0.1  0.52 0.51]\n",
      "[0.29 0.25 0.18]\n"
     ]
    }
   ],
   "execution_count": 145
  },
  {
   "cell_type": "markdown",
   "metadata": {},
   "source": [
    "Now that we have the weights and the biases defined for the network, let's compute the output for a given input, $x_1$ and $x_2$.\n"
   ]
  },
  {
   "cell_type": "code",
   "metadata": {
    "ExecuteTime": {
     "end_time": "2025-02-23T06:17:21.901178Z",
     "start_time": "2025-02-23T06:17:21.898608Z"
    }
   },
   "source": [
    "x_1 = 0.5 # input 1\n",
    "x_2 = 0.85 # input 2\n",
    "\n",
    "print('x1 is {} and x2 is {}'.format(x_1, x_2))"
   ],
   "outputs": [
    {
     "name": "stdout",
     "output_type": "stream",
     "text": [
      "x1 is 0.5 and x2 is 0.85\n"
     ]
    }
   ],
   "execution_count": 146
  },
  {
   "cell_type": "markdown",
   "metadata": {},
   "source": [
    "Let's start by computing the wighted sum of the inputs, $z_{1, 1}$, at the first node of the hidden layer.\n"
   ]
  },
  {
   "cell_type": "code",
   "metadata": {
    "ExecuteTime": {
     "end_time": "2025-02-23T06:17:23.238976Z",
     "start_time": "2025-02-23T06:17:23.236711Z"
    }
   },
   "source": [
    "z_11 = x_1 * weights[0] + x_2 * weights[1] + biases[0]\n",
    "\n",
    "print('The weighted sum of the inputs at the first node in the hidden layer is {}'.format(z_11))"
   ],
   "outputs": [
    {
     "name": "stdout",
     "output_type": "stream",
     "text": [
      "The weighted sum of the inputs at the first node in the hidden layer is 0.9424999999999999\n"
     ]
    }
   ],
   "execution_count": 147
  },
  {
   "cell_type": "code",
   "metadata": {
    "ExecuteTime": {
     "end_time": "2025-02-23T06:17:23.889487Z",
     "start_time": "2025-02-23T06:17:23.887170Z"
    }
   },
   "source": [
    "### type your answer here\n",
    "z_12 = x_1 * weights[2] + x_2 * weights[3] + biases[1]\n",
    "print(z_12)"
   ],
   "outputs": [
    {
     "name": "stdout",
     "output_type": "stream",
     "text": [
      "0.645\n"
     ]
    }
   ],
   "execution_count": 148
  },
  {
   "cell_type": "markdown",
   "metadata": {},
   "source": [
    "Next, let's compute the weighted sum of the inputs, $z_{1, 2}$, at the second node of the hidden layer. Assign the value to **z_12**.\n",
    "z_12 = x_1 * weights[2] + x_2 * weights[3] + biases[1]"
   ]
  },
  {
   "cell_type": "markdown",
   "metadata": {},
   "source": [
    "Double-click __here__ for the solution.\n",
    "<!-- The correct answer is:\n",
    "z_12 = x_1 * weights[2] + x_2 * weights[3] + biases[1]\n",
    "-->\n"
   ]
  },
  {
   "cell_type": "markdown",
   "metadata": {},
   "source": [
    "Print the weighted sum.\n"
   ]
  },
  {
   "cell_type": "code",
   "metadata": {
    "ExecuteTime": {
     "end_time": "2025-02-23T06:17:26.461Z",
     "start_time": "2025-02-23T06:17:26.458702Z"
    }
   },
   "source": [
    "print('The weighted sum of the inputs at the second node in the hidden layer is {}'.format(np.around(z_12, decimals=4)))"
   ],
   "outputs": [
    {
     "name": "stdout",
     "output_type": "stream",
     "text": [
      "The weighted sum of the inputs at the second node in the hidden layer is 0.645\n"
     ]
    }
   ],
   "execution_count": 149
  },
  {
   "cell_type": "markdown",
   "metadata": {},
   "source": [
    "Next, assuming a sigmoid activation function, let's compute the activation of the first node, $a_{1, 1}$, in the hidden layer.\n"
   ]
  },
  {
   "cell_type": "code",
   "metadata": {
    "ExecuteTime": {
     "end_time": "2025-02-23T06:17:27.801576Z",
     "start_time": "2025-02-23T06:17:27.799134Z"
    }
   },
   "source": [
    "a_11 = 1.0 / (1.0 + np.exp(-z_11))\n",
    "\n",
    "print('The activation of the first node in the hidden layer is {}'.format(np.around(a_11, decimals=4)))"
   ],
   "outputs": [
    {
     "name": "stdout",
     "output_type": "stream",
     "text": [
      "The activation of the first node in the hidden layer is 0.7196\n"
     ]
    }
   ],
   "execution_count": 150
  },
  {
   "cell_type": "markdown",
   "metadata": {},
   "source": [
    "Let's also compute the activation of the second node, $a_{1, 2}$, in the hidden layer. Assign the value to **a_12**.\n"
   ]
  },
  {
   "cell_type": "code",
   "metadata": {
    "ExecuteTime": {
     "end_time": "2025-02-23T06:17:29.409291Z",
     "start_time": "2025-02-23T06:17:29.407145Z"
    }
   },
   "source": [
    "### type your answer here\n",
    "a_12 = 1.0 / (1.0 + np.exp(-z_12))\n",
    "\n"
   ],
   "outputs": [],
   "execution_count": 151
  },
  {
   "cell_type": "markdown",
   "metadata": {},
   "source": [
    "Double-click __here__ for the solution.\n",
    "<!-- The correct answer is:\n",
    "a_12 = 1.0 / (1.0 + np.exp(-z_12))\n",
    "-->\n"
   ]
  },
  {
   "cell_type": "markdown",
   "metadata": {},
   "source": [
    "Print the activation of the second node.\n"
   ]
  },
  {
   "cell_type": "code",
   "metadata": {
    "ExecuteTime": {
     "end_time": "2025-02-23T06:17:31.537573Z",
     "start_time": "2025-02-23T06:17:31.535119Z"
    }
   },
   "source": [
    "print('The activation of the second node in the hidden layer is {}'.format(np.around(a_12, decimals=4)))"
   ],
   "outputs": [
    {
     "name": "stdout",
     "output_type": "stream",
     "text": [
      "The activation of the second node in the hidden layer is 0.6559\n"
     ]
    }
   ],
   "execution_count": 152
  },
  {
   "cell_type": "markdown",
   "metadata": {},
   "source": [
    "Now these activations will serve as the inputs to the output layer. So, let's compute the weighted sum of these inputs to the node in the output layer. Assign the value to **z_2**.\n"
   ]
  },
  {
   "cell_type": "code",
   "metadata": {
    "ExecuteTime": {
     "end_time": "2025-02-23T06:17:32.961845Z",
     "start_time": "2025-02-23T06:17:32.959877Z"
    }
   },
   "source": [
    "### type your answer here\n",
    "z_2 = a_11 * weights[4] + a_12 * weights[5] + biases[2]"
   ],
   "outputs": [],
   "execution_count": 153
  },
  {
   "cell_type": "markdown",
   "metadata": {},
   "source": [
    "Double-click __here__ for the solution.\n",
    "<!-- The correct answer is:\n",
    "z_2 = a_11 * weights[4] + a_12 * weights[5] + biases[2]\n",
    "-->\n"
   ]
  },
  {
   "cell_type": "markdown",
   "metadata": {},
   "source": [
    "Print the weighted sum of the inputs at the node in the output layer.\n"
   ]
  },
  {
   "cell_type": "code",
   "metadata": {
    "ExecuteTime": {
     "end_time": "2025-02-23T06:17:34.773511Z",
     "start_time": "2025-02-23T06:17:34.770730Z"
    }
   },
   "source": [
    "print('The weighted sum of the inputs at the node in the output layer is {}'.format(np.around(z_2, decimals=4)))"
   ],
   "outputs": [
    {
     "name": "stdout",
     "output_type": "stream",
     "text": [
      "The weighted sum of the inputs at the node in the output layer is 0.8887\n"
     ]
    }
   ],
   "execution_count": 154
  },
  {
   "cell_type": "markdown",
   "metadata": {},
   "source": [
    "Finally, let's compute the output of the network as the activation of the node in the output layer. Assign the value to **a_2**.\n"
   ]
  },
  {
   "cell_type": "code",
   "metadata": {
    "ExecuteTime": {
     "end_time": "2025-02-23T06:17:36.111135Z",
     "start_time": "2025-02-23T06:17:36.109097Z"
    }
   },
   "source": [
    "### type your answer here\n",
    "a_2 = 1.0 / (1.0 + np.exp(-z_2))\n"
   ],
   "outputs": [],
   "execution_count": 155
  },
  {
   "cell_type": "markdown",
   "metadata": {},
   "source": [
    "Double-click __here__ for the solution.\n",
    "<!-- The correct answer is:\n",
    "a_2 = 1.0 / (1.0 + np.exp(-z_2))\n",
    "-->\n"
   ]
  },
  {
   "cell_type": "markdown",
   "metadata": {},
   "source": [
    "Print the activation of the node in the output layer which is equivalent to the prediction made by the network.\n"
   ]
  },
  {
   "cell_type": "code",
   "metadata": {
    "ExecuteTime": {
     "end_time": "2025-02-23T06:17:38.517329Z",
     "start_time": "2025-02-23T06:17:38.515052Z"
    }
   },
   "source": [
    "print('The output of the network for x1 = 0.5 and x2 = 0.85 is {}'.format(np.around(a_2, decimals=4)))"
   ],
   "outputs": [
    {
     "name": "stdout",
     "output_type": "stream",
     "text": [
      "The output of the network for x1 = 0.5 and x2 = 0.85 is 0.7086\n"
     ]
    }
   ],
   "execution_count": 156
  },
  {
   "cell_type": "markdown",
   "metadata": {},
   "source": [
    "<hr>\n"
   ]
  },
  {
   "cell_type": "markdown",
   "metadata": {},
   "source": [
    "Obviously, neural networks for real problems are composed of many hidden layers and many more nodes in each layer. So, we can't continue making predictions using this very inefficient approach of computing the weighted sum at each node and the activation of each node manually. \n"
   ]
  },
  {
   "cell_type": "markdown",
   "metadata": {},
   "source": [
    "In order to code an automatic way of making predictions, let's generalize our network. A general network would take $n$ inputs, would have many hidden layers, each hidden layer having $m$ nodes, and would have an output layer. Although the network is showing one hidden layer, but we will code the network to have many hidden layers. Similarly, although the network shows an output layer with one node, we will code the network to have more than one node in the output layer.\n"
   ]
  },
  {
   "cell_type": "markdown",
   "metadata": {},
   "source": [
    "<img src=\"http://cocl.us/general_neural_network\" alt=\"Neural Network General\" width=\"600px\">\n"
   ]
  },
  {
   "cell_type": "markdown",
   "metadata": {},
   "source": [
    "  \n"
   ]
  },
  {
   "cell_type": "markdown",
   "metadata": {},
   "source": [
    "<a id=\"item2\"></a>\n"
   ]
  },
  {
   "cell_type": "markdown",
   "metadata": {},
   "source": [
    "<a id='item12'></a>\n"
   ]
  },
  {
   "cell_type": "markdown",
   "metadata": {},
   "source": [
    "## Initialize a Network\n"
   ]
  },
  {
   "cell_type": "markdown",
   "metadata": {},
   "source": [
    "Let's start by formally defining the structure of the network.\n"
   ]
  },
  {
   "cell_type": "code",
   "metadata": {
    "ExecuteTime": {
     "end_time": "2025-02-23T06:17:49.921489Z",
     "start_time": "2025-02-23T06:17:49.919431Z"
    }
   },
   "source": [
    "n = 2 # number of inputs\n",
    "num_hidden_layers = 2 # number of hidden layers\n",
    "m = [2, 2] # number of nodes in each hidden layer\n",
    "num_nodes_output = 1 # number of nodes in the output layer"
   ],
   "outputs": [],
   "execution_count": 157
  },
  {
   "cell_type": "markdown",
   "metadata": {},
   "source": "Now that we defined the structure of the network, let's go ahead and initialize the weights and the biases in the network to random numbers. In order to be able to initialize the weights and the biases to random numbers, we will need to import the **Numpy** library.\n"
  },
  {
   "cell_type": "code",
   "metadata": {
    "ExecuteTime": {
     "end_time": "2025-02-23T06:18:06.381600Z",
     "start_time": "2025-02-23T06:18:06.377143Z"
    }
   },
   "source": [
    "import numpy as np # import the Numpy library\n",
    "\n",
    "num_nodes_previous = n # number of nodes in the previous layer\n",
    "\n",
    "network = {} # initialize network an an empty dictionary\n",
    "\n",
    "# Loop through each layer and randomly initialize the weights and biases associated with each node;\n",
    "# notice how we are adding 1 to the number of hidden layers in order to include the output layer\n",
    "for layer in range(num_hidden_layers + 1): \n",
    "    \n",
    "    # determine name of layer\n",
    "    if layer == num_hidden_layers:\n",
    "        layer_name = 'output'\n",
    "        num_nodes = num_nodes_output\n",
    "    else:\n",
    "        layer_name = 'layer_{}'.format(layer + 1)\n",
    "        num_nodes = m[layer]\n",
    "    \n",
    "    # initialize weights and biases associated with each node in the current layer\n",
    "    network[layer_name] = {}\n",
    "    for node in range(num_nodes):\n",
    "        node_name = 'node_{}'.format(node+1)\n",
    "        network[layer_name][node_name] = {\n",
    "            'weights': np.around(np.random.uniform(size=num_nodes_previous), decimals=2),\n",
    "            'bias': np.around(np.random.uniform(size=1), decimals=2),\n",
    "        }\n",
    "    \n",
    "    num_nodes_previous = num_nodes\n",
    "    \n",
    "print(network) # print network"
   ],
   "outputs": [
    {
     "name": "stdout",
     "output_type": "stream",
     "text": [
      "{'layer_1': {'node_1': {'weights': array([0.58, 0.15]), 'bias': array([0.71])}, 'node_2': {'weights': array([0.86, 0.69]), 'bias': array([0.27])}}, 'layer_2': {'node_1': {'weights': array([0.4 , 0.51]), 'bias': array([0.34])}, 'node_2': {'weights': array([0.55, 0.69]), 'bias': array([0.3])}}, 'output': {'node_1': {'weights': array([0.22, 0.79]), 'bias': array([0.78])}}}\n"
     ]
    }
   ],
   "execution_count": 158
  },
  {
   "cell_type": "code",
   "metadata": {
    "ExecuteTime": {
     "end_time": "2025-02-23T06:18:08.332178Z",
     "start_time": "2025-02-23T06:18:08.329472Z"
    }
   },
   "source": [
    "# The function below is a cleaner and more visually clear way to print the network structure\n",
    "def print_network_structure(network):\n",
    "    for layer, nodes in network.items():\n",
    "        print(f\"Layer: {layer}\")\n",
    "        for node, params in nodes.items():\n",
    "            print(f\"  {node}: Weights: {params['weights']} Bias: {params['bias']}\")\n",
    "        print()\n",
    "\n",
    "print_network_structure(network)\n"
   ],
   "outputs": [
    {
     "name": "stdout",
     "output_type": "stream",
     "text": [
      "Layer: layer_1\n",
      "  node_1: Weights: [0.58 0.15] Bias: [0.71]\n",
      "  node_2: Weights: [0.86 0.69] Bias: [0.27]\n",
      "\n",
      "Layer: layer_2\n",
      "  node_1: Weights: [0.4  0.51] Bias: [0.34]\n",
      "  node_2: Weights: [0.55 0.69] Bias: [0.3]\n",
      "\n",
      "Layer: output\n",
      "  node_1: Weights: [0.22 0.79] Bias: [0.78]\n",
      "\n"
     ]
    }
   ],
   "execution_count": 159
  },
  {
   "cell_type": "markdown",
   "metadata": {},
   "source": [
    "Awesome! So now with the above code, we are able to initialize the weights and the biases pertaining to any network of any number of hidden layers and number of nodes in each layer. But let's put this code in a function so that we are able to repetitively execute all this code whenever we want to construct a neural network.\n"
   ]
  },
  {
   "cell_type": "code",
   "metadata": {
    "ExecuteTime": {
     "end_time": "2025-02-23T06:18:25.347900Z",
     "start_time": "2025-02-23T06:18:25.344642Z"
    }
   },
   "source": [
    "def initialize_network(num_inputs, num_hidden_layers, num_nodes_hidden, num_nodes_output):\n",
    "    \n",
    "    num_nodes_previous = num_inputs # number of nodes in the previous layer\n",
    "\n",
    "    network = {}\n",
    "    \n",
    "    # loop through each layer and randomly initialize the weights and biases associated with each layer\n",
    "    for layer in range(num_hidden_layers + 1):\n",
    "        \n",
    "        if layer == num_hidden_layers:\n",
    "            layer_name = 'output' # name last layer in the network output\n",
    "            num_nodes = num_nodes_output\n",
    "        else:\n",
    "            layer_name = 'layer_{}'.format(layer + 1) # otherwise give the layer a number\n",
    "            num_nodes = num_nodes_hidden[layer] \n",
    "        \n",
    "        # initialize weights and bias for each node\n",
    "        network[layer_name] = {}\n",
    "        for node in range(num_nodes):\n",
    "            node_name = 'node_{}'.format(node+1)\n",
    "            network[layer_name][node_name] = {\n",
    "                'weights': np.around(np.random.uniform(size=num_nodes_previous), decimals=2),\n",
    "                'bias': np.around(np.random.uniform(size=1), decimals=2),\n",
    "            }\n",
    "    \n",
    "        num_nodes_previous = num_nodes\n",
    "\n",
    "    return network # return the network"
   ],
   "outputs": [],
   "execution_count": 160
  },
  {
   "cell_type": "markdown",
   "metadata": {},
   "source": [
    "#### Use the *initialize_network* function to create a network that:\n",
    "\n",
    "1. takes 5 inputs\n",
    "2. has three hidden layers\n",
    "3. has 3 nodes in the first layer, 2 nodes in the second layer, and 3 nodes in the third layer\n",
    "4. has 1 node in the output layer\n",
    "\n",
    "Call the network **small_network**.\n"
   ]
  },
  {
   "cell_type": "code",
   "metadata": {
    "ExecuteTime": {
     "end_time": "2025-02-23T06:18:41.101870Z",
     "start_time": "2025-02-23T06:18:41.098301Z"
    }
   },
   "source": [
    "### type your answer here\n",
    "n = 5 # number of inputs\n",
    "num_hidden_layers = 3 # number of hidden layers\n",
    "m = [3, 2, 3] # number of nodes in each hidden layer\n",
    "num_nodes_output = 1 # number of nodes in the output layer\n",
    "\n",
    "small_network = initialize_network(n, num_hidden_layers, m, num_nodes_output)\n",
    "\n",
    "print_network_structure(small_network)\n",
    "\n"
   ],
   "outputs": [
    {
     "name": "stdout",
     "output_type": "stream",
     "text": [
      "Layer: layer_1\n",
      "  node_1: Weights: [0.04 0.65 0.13 0.55 0.29] Bias: [0.83]\n",
      "  node_2: Weights: [0.1  0.9  0.34 0.13 0.46] Bias: [0.08]\n",
      "  node_3: Weights: [0.74 0.36 0.33 0.11 0.19] Bias: [0.52]\n",
      "\n",
      "Layer: layer_2\n",
      "  node_1: Weights: [0.11 0.48 0.93] Bias: [0.4]\n",
      "  node_2: Weights: [0.18 0.81 0.66] Bias: [0.61]\n",
      "\n",
      "Layer: layer_3\n",
      "  node_1: Weights: [0.12 0.35] Bias: [0.47]\n",
      "  node_2: Weights: [0.38 0.22] Bias: [0.23]\n",
      "  node_3: Weights: [0.14 0.73] Bias: [0.12]\n",
      "\n",
      "Layer: output\n",
      "  node_1: Weights: [0.32 0.39 0.04] Bias: [0.16]\n",
      "\n"
     ]
    }
   ],
   "execution_count": 161
  },
  {
   "cell_type": "markdown",
   "metadata": {},
   "source": [
    "<a id=\"item3\"></a>\n"
   ]
  },
  {
   "cell_type": "markdown",
   "metadata": {},
   "source": [
    "<a id='item13'></a>\n"
   ]
  },
  {
   "cell_type": "markdown",
   "metadata": {},
   "source": [
    "## Compute Weighted Sum at Each Node\n"
   ]
  },
  {
   "cell_type": "markdown",
   "metadata": {},
   "source": [
    "The weighted sum at each node is computed as the dot product of the inputs and the weights plus the bias. So let's create a function called *compute_weighted_sum* that does just that.\n"
   ]
  },
  {
   "cell_type": "code",
   "metadata": {
    "ExecuteTime": {
     "end_time": "2025-02-23T06:18:45.314266Z",
     "start_time": "2025-02-23T06:18:45.311657Z"
    }
   },
   "source": [
    "def compute_weighted_sum(inputs, weights, bias):\n",
    "    return np.sum(inputs * weights) + bias"
   ],
   "outputs": [],
   "execution_count": 162
  },
  {
   "cell_type": "markdown",
   "metadata": {},
   "source": [
    "Let's generate 5 inputs that we can feed to **small_network**.\n"
   ]
  },
  {
   "cell_type": "code",
   "metadata": {
    "ExecuteTime": {
     "end_time": "2025-02-23T06:18:46.630820Z",
     "start_time": "2025-02-23T06:18:46.628317Z"
    }
   },
   "source": [
    "from random import seed\n",
    "import numpy as np\n",
    "\n",
    "np.random.seed(12)\n",
    "inputs = np.around(np.random.uniform(size=5), decimals=2)\n",
    "\n",
    "print('The inputs to the network are {}'.format(inputs))"
   ],
   "outputs": [
    {
     "name": "stdout",
     "output_type": "stream",
     "text": [
      "The inputs to the network are [0.15 0.74 0.26 0.53 0.01]\n"
     ]
    }
   ],
   "execution_count": 163
  },
  {
   "cell_type": "markdown",
   "metadata": {},
   "source": [
    "#### Use the *compute_weighted_sum* function to compute the weighted sum at the first node in the first hidden layer.\n"
   ]
  },
  {
   "cell_type": "markdown",
   "metadata": {},
   "source": [
    "Double-click __here__ for the solution.\n",
    "<!-- The correct answer is:\n",
    "node_weights = small_network['layer_1']['node_1']['weights']\n",
    "node_bias = small_network['layer_1']['node_1']['bias']\n",
    "\n",
    "weighted_sum = compute_weighted_sum(inputs, node_weights, node_bias)\n",
    "print('The weighted sum at the first node in the hidden layer is {}'.format(np.around(weighted_sum[0], decimals=4)))\n",
    "-->\n"
   ]
  },
  {
   "cell_type": "code",
   "metadata": {
    "ExecuteTime": {
     "end_time": "2025-02-23T06:18:49.083738Z",
     "start_time": "2025-02-23T06:18:49.081160Z"
    }
   },
   "source": [
    "### type your answer here\n",
    "node_weights = small_network['layer_1']['node_1']['weights']\n",
    "node_bias = small_network['layer_1']['node_1']['bias']\n",
    "\n",
    "weighted_sum = compute_weighted_sum(inputs, node_weights, node_bias)\n",
    "print('The weighted sum at the first node in the hidden layer is {}'.format(np.around(weighted_sum[0], decimals=4)))\n",
    "\n",
    "\n"
   ],
   "outputs": [
    {
     "name": "stdout",
     "output_type": "stream",
     "text": [
      "The weighted sum at the first node in the hidden layer is 1.6452\n"
     ]
    }
   ],
   "execution_count": 164
  },
  {
   "cell_type": "markdown",
   "metadata": {},
   "source": [
    "   \n"
   ]
  },
  {
   "cell_type": "markdown",
   "metadata": {},
   "source": [
    "<a id=\"item4\"></a>\n"
   ]
  },
  {
   "cell_type": "markdown",
   "metadata": {},
   "source": [
    "<a id='item14'></a>\n"
   ]
  },
  {
   "cell_type": "markdown",
   "metadata": {},
   "source": [
    "## Compute Node Activation\n"
   ]
  },
  {
   "cell_type": "markdown",
   "metadata": {},
   "source": [
    "Recall that the output of each node is simply a non-linear tranformation of the weighted sum. We use activation functions for this mapping. Let's use the sigmoid function as the activation function here. So let's define a function that takes a weighted sum as input and returns the non-linear transformation of the input using the sigmoid function.\n"
   ]
  },
  {
   "cell_type": "code",
   "metadata": {
    "ExecuteTime": {
     "end_time": "2025-02-23T06:18:53.486053Z",
     "start_time": "2025-02-23T06:18:53.483661Z"
    }
   },
   "source": [
    "def node_activation(weighted_sum):\n",
    "    return 1.0 / (1.0 + np.exp(-1 * weighted_sum))"
   ],
   "outputs": [],
   "execution_count": 165
  },
  {
   "cell_type": "markdown",
   "metadata": {},
   "source": [
    "#### Use the *node_activation* function to compute the output of the first node in the first hidden layer.\n"
   ]
  },
  {
   "cell_type": "code",
   "metadata": {
    "ExecuteTime": {
     "end_time": "2025-02-23T06:18:54.680904Z",
     "start_time": "2025-02-23T06:18:54.678469Z"
    }
   },
   "source": [
    "### type your answer here\n",
    "node1_output = node_activation(weighted_sum)\n",
    "print(node1_output)\n",
    "\n"
   ],
   "outputs": [
    {
     "name": "stdout",
     "output_type": "stream",
     "text": [
      "[0.83824126]\n"
     ]
    }
   ],
   "execution_count": 166
  },
  {
   "cell_type": "markdown",
   "metadata": {},
   "source": [
    "Double-click __here__ for the solution.\n",
    "<!-- The correct answer is:\n",
    "node_output  = node_activation(compute_weighted_sum(inputs, node_weights, node_bias))\n",
    "print('The output of the first node in the hidden layer is {}'.format(np.around(node_output[0], decimals=4)))\n",
    "-->\n"
   ]
  },
  {
   "cell_type": "markdown",
   "metadata": {},
   "source": [
    "   \n"
   ]
  },
  {
   "cell_type": "markdown",
   "metadata": {},
   "source": [
    "<a id=\"item5\"></a>\n"
   ]
  },
  {
   "cell_type": "markdown",
   "metadata": {},
   "source": [
    "<a id='item15'></a>\n"
   ]
  },
  {
   "cell_type": "markdown",
   "metadata": {},
   "source": [
    "## Forward Propagation\n"
   ]
  },
  {
   "cell_type": "markdown",
   "metadata": {},
   "source": [
    "The final piece of building a neural network that can perform predictions is to put everything together. So let's create a function that applies the *compute_weighted_sum* and *node_activation* functions to each node in the network and propagates the data all the way to the output layer and outputs a prediction for each node in the output layer.\n"
   ]
  },
  {
   "cell_type": "markdown",
   "metadata": {},
   "source": [
    "The way we are going to accomplish this is through the following procedure:\n",
    "\n",
    "1. Start with the input layer as the input to the first hidden layer.\n",
    "2. Compute the weighted sum at the nodes of the current layer.\n",
    "3. Compute the output of the nodes of the current layer.\n",
    "4. Set the output of the current layer to be the input to the next layer.\n",
    "5. Move to the next layer in the network.\n",
    "5. Repeat steps 2 - 4 until we compute the output of the output layer.\n"
   ]
  },
  {
   "cell_type": "code",
   "metadata": {
    "ExecuteTime": {
     "end_time": "2025-02-23T06:19:00.392448Z",
     "start_time": "2025-02-23T06:19:00.389204Z"
    }
   },
   "source": [
    "def forward_propagate(network, inputs):\n",
    "    \n",
    "    layer_inputs = list(inputs) # start with the input layer as the input to the first hidden layer\n",
    "    \n",
    "    for layer in network:\n",
    "        \n",
    "        layer_data = network[layer]\n",
    "        \n",
    "        layer_outputs = [] \n",
    "        \n",
    "        for layer_node in layer_data:\n",
    "        \n",
    "            node_data = layer_data[layer_node]\n",
    "        \n",
    "            # compute the weighted sum and the output of each node at the same time \n",
    "            node_output = node_activation(compute_weighted_sum(layer_inputs, node_data['weights'], node_data['bias']))\n",
    "            layer_outputs.append(np.around(node_output[0], decimals=4))\n",
    "            \n",
    "        if layer != 'output':\n",
    "            print('The outputs of the nodes in hidden layer number {} is {}'.format(layer.split('_')[1], [float(val) for val in layer_outputs]))\n",
    "        \n",
    "        layer_inputs = layer_outputs # set the output of this layer to be the input to next layer\n",
    "\n",
    "    network_predictions = layer_outputs\n",
    "    return network_predictions"
   ],
   "outputs": [],
   "execution_count": 167
  },
  {
   "cell_type": "markdown",
   "metadata": {},
   "source": [
    "#### Use the *forward_propagate* function to compute the prediction of our small network\n"
   ]
  },
  {
   "cell_type": "code",
   "metadata": {
    "scrolled": true,
    "ExecuteTime": {
     "end_time": "2025-02-23T06:19:03.139660Z",
     "start_time": "2025-02-23T06:19:03.137042Z"
    }
   },
   "source": [
    "### type your answser here\n",
    "\n",
    "predictions = forward_propagate(small_network, inputs)\n",
    "print('\\nThe predicted value by the network for the given input is {}'.format(np.around(predictions[0], decimals=4)))\n"
   ],
   "outputs": [
    {
     "name": "stdout",
     "output_type": "stream",
     "text": [
      "The outputs of the nodes in hidden layer number 1 is [0.8382, 0.7156, 0.7395]\n",
      "The outputs of the nodes in hidden layer number 2 is [0.821, 0.8616]\n",
      "The outputs of the nodes in hidden layer number 3 is [0.7048, 0.6751, 0.7035]\n",
      "\n",
      "The predicted value by the network for the given input is 0.6631\n"
     ]
    }
   ],
   "execution_count": 168
  },
  {
   "cell_type": "markdown",
   "metadata": {},
   "source": [
    "Double-click __here__ for the solution.\n",
    "<!-- The correct answer is:\n",
    "predictions = forward_propagate(small_network, inputs)\n",
    "print('The predicted value by the network for the given input is {}'.format(np.around(predictions[0], decimals=4)))\n",
    "-->\n"
   ]
  },
  {
   "cell_type": "markdown",
   "metadata": {},
   "source": [
    "So we built the code to define a neural network. We can specify the number of inputs that a neural network can take, the number of hidden layers as well as the number of nodes in each hidden layer, and the number of nodes in the output layer.\n"
   ]
  },
  {
   "cell_type": "markdown",
   "metadata": {},
   "source": [
    "We first use the *initialize_network* to create our neural network and define its weights and biases.\n"
   ]
  },
  {
   "cell_type": "code",
   "metadata": {
    "ExecuteTime": {
     "end_time": "2025-02-23T06:19:06.630456Z",
     "start_time": "2025-02-23T06:19:06.628104Z"
    }
   },
   "source": [
    "my_network = initialize_network(5, 3, [2, 3, 2], 3)"
   ],
   "outputs": [],
   "execution_count": 169
  },
  {
   "cell_type": "markdown",
   "metadata": {},
   "source": [
    "Then, for a given input,\n"
   ]
  },
  {
   "cell_type": "code",
   "metadata": {
    "ExecuteTime": {
     "end_time": "2025-02-23T06:19:07.900587Z",
     "start_time": "2025-02-23T06:19:07.898499Z"
    }
   },
   "source": [
    "inputs = np.around(np.random.uniform(size=5), decimals=2)"
   ],
   "outputs": [],
   "execution_count": 170
  },
  {
   "cell_type": "markdown",
   "metadata": {},
   "source": [
    "we compute the network predictions.\n"
   ]
  },
  {
   "cell_type": "code",
   "metadata": {
    "ExecuteTime": {
     "end_time": "2025-02-23T06:19:09.075823Z",
     "start_time": "2025-02-23T06:19:09.073143Z"
    }
   },
   "source": [
    "predictions = forward_propagate(my_network, inputs)\n",
    "print('The predicted values by the network for the given input are {}'.format(predictions))"
   ],
   "outputs": [
    {
     "name": "stdout",
     "output_type": "stream",
     "text": [
      "The outputs of the nodes in hidden layer number 1 is [0.8857, 0.8889]\n",
      "The outputs of the nodes in hidden layer number 2 is [0.7822, 0.6965, 0.7411]\n",
      "The outputs of the nodes in hidden layer number 3 is [0.868, 0.881]\n",
      "The predicted values by the network for the given input are [np.float64(0.8952), np.float64(0.8222), np.float64(0.8035)]\n"
     ]
    }
   ],
   "execution_count": 171
  },
  {
   "cell_type": "markdown",
   "metadata": {},
   "source": [
    "Feel free to play around with the code by creating different networks of different structures and enjoy making predictions using the *forward_propagate* function.\n"
   ]
  },
  {
   "cell_type": "code",
   "metadata": {
    "ExecuteTime": {
     "end_time": "2025-02-23T06:19:14.225321Z",
     "start_time": "2025-02-23T06:19:14.219688Z"
    }
   },
   "source": [
    "# Example activation function (Sigmoid)\n",
    "def sigmoid(x):\n",
    "    return 1 / (1 + np.exp(-x))\n",
    "    \n",
    "def forward_propagate(network, inputs, activation_function):\n",
    "    \"\"\"\n",
    "    Performs forward propagation through the neural network.\n",
    "\n",
    "    Parameters:\n",
    "        network (dict): The neural network structure with weights and biases.\n",
    "        inputs (array-like): Input values to the network.\n",
    "        activation_function (function): Function to apply at each node.\n",
    "\n",
    "    Returns:\n",
    "        list: Final output of the network.\n",
    "    \"\"\"\n",
    "    \n",
    "    layer_inputs = np.array(inputs)  # Convert to NumPy array for efficiency\n",
    "\n",
    "    for layer_name, neurons in network.items():  # Iterate through layers\n",
    "        \n",
    "        layer_outputs = []  # Store outputs of this layer\n",
    "        \n",
    "        for neuron_name, neuron_params in neurons.items():  # Iterate through neurons\n",
    "            weights = np.array(neuron_params['weights'])\n",
    "            bias = neuron_params['bias']\n",
    "            \n",
    "            # Compute weighted sum and apply activation function\n",
    "            weighted_sum = np.dot(layer_inputs, weights) + bias\n",
    "            neuron_output = activation_function(weighted_sum)\n",
    "            \n",
    "            layer_outputs.append(np.around(neuron_output[0], decimals=4))\n",
    "        \n",
    "        if \"output\" not in layer_name:\n",
    "            print(f\"Outputs of {layer_name}: {[float(val) for val in layer_outputs]}\")\n",
    "            \n",
    "        \n",
    "        layer_inputs = np.array(layer_outputs)  # Pass outputs as inputs to next layer\n",
    "\n",
    "    return layer_outputs  # Final predictions\n",
    "\n",
    "\n",
    "num_inputs = 5 # number of inputs\n",
    "num_hidden_layers = 3 # number of hidden layers\n",
    "num_nodes_hidden = [3, 2, 3] # number of nodes in each hidden layer\n",
    "num_nodes_output = 1 # number of nodes in the output layer\n",
    "\n",
    "inputs = np.around(np.random.uniform(size=5), decimals=2)\n",
    "\n",
    "network = initialize_network(num_inputs, num_hidden_layers, num_nodes_hidden, num_nodes_output)\n",
    "\n",
    "print_network_structure(network)\n",
    "\n",
    "# Forward Propagation\n",
    "predictions = forward_propagate(network, inputs, sigmoid)\n",
    "\n",
    "print(\"\\nFinal Network Prediction:\", float(predictions[0]))\n",
    "\n",
    "\n",
    "\n"
   ],
   "outputs": [
    {
     "name": "stdout",
     "output_type": "stream",
     "text": [
      "Layer: layer_1\n",
      "  node_1: Weights: [0.03 0.3  0.22 0.06 0.52] Bias: [0.42]\n",
      "  node_2: Weights: [0.05 0.57 0.8  0.11 0.28] Bias: [0.64]\n",
      "  node_3: Weights: [0.49 0.51 0.46 0.89 0.61] Bias: [0.6]\n",
      "\n",
      "Layer: layer_2\n",
      "  node_1: Weights: [0.44 0.48 0.89] Bias: [0.21]\n",
      "  node_2: Weights: [0.94 0.07 0.6 ] Bias: [0.03]\n",
      "\n",
      "Layer: layer_3\n",
      "  node_1: Weights: [0.67 0.64] Bias: [0.86]\n",
      "  node_2: Weights: [0.94 0.45] Bias: [0.67]\n",
      "  node_3: Weights: [0.92 0.62] Bias: [0.32]\n",
      "\n",
      "Layer: output\n",
      "  node_1: Weights: [0.32 0.29 0.96] Bias: [0.41]\n",
      "\n",
      "Outputs of layer_1: [0.6985, 0.733, 0.873]\n",
      "Outputs of layer_2: [0.8384, 0.7793]\n",
      "Outputs of layer_3: [0.8722, 0.8592, 0.8284]\n",
      "\n",
      "Final Network Prediction: 0.8499\n"
     ]
    }
   ],
   "execution_count": 172
  },
  {
   "cell_type": "code",
   "metadata": {
    "ExecuteTime": {
     "end_time": "2025-02-23T06:19:18.409145Z",
     "start_time": "2025-02-23T06:19:18.351942Z"
    }
   },
   "source": [
    "from sympy import *\n",
    "'''\n",
    "The Rectified Linear Unit (ReLU) is a widely used activation function in artificial neural networks, particularly in deep learning models. \n",
    "Its purpose is to introduce non-linearity into the model while maintaining computational efficiency. Here are some key reasons why ReLU \n",
    "is popular and useful:\n",
    "\n",
    "Non-linearity: Although ReLU looks like a linear function, it introduces non-linearity into the model. This is crucial because it allows \n",
    "the neural network to learn complex patterns and representations. Without non-linear activation functions, a neural network would behave \n",
    "like a linear model, regardless of its depth.\n",
    "\n",
    "Simplicity and Efficiency: ReLU is computationally efficient because it involves simple thresholding at zero. This simplicity allows for \n",
    "faster training and inference compared to other activation functions like sigmoid or hyperbolic tangent (tanh), which involve more complex \n",
    "mathematical operations.\n",
    "\n",
    "Sparsity: ReLU activation can lead to sparse representations. Since it outputs zero for any negative input, many neurons may not activate \n",
    "(i.e., output zero) for a given input. This sparsity can lead to more efficient models by reducing the number of active neurons and can \n",
    "help mitigate the vanishing gradient problem.\n",
    "\n",
    "Mitigation of the Vanishing Gradient Problem: The vanishing gradient problem is a challenge in training deep neural networks, where gradients\n",
    "become very small, effectively preventing the network from learning. ReLU helps mitigate this issue because its gradient is either zero \n",
    "(for negative inputs) or one (for positive inputs), which helps maintain a stronger gradient signal during backpropagation.\n",
    "\n",
    "Empirical Success: ReLU has been empirically shown to work well in practice, especially in deep networks. It has become the default \n",
    "activation function for many architectures, such as convolutional neural networks (CNNs).'''\n",
    "\n",
    "# plot Rectified Linear Unit (ReLu)\n",
    "x = symbols('x')\n",
    "relu = Max(0, x)\n",
    "plot(relu)\n",
    "\n",
    "\n",
    "\n",
    "\n"
   ],
   "outputs": [
    {
     "data": {
      "text/plain": [
       "<Figure size 640x480 with 1 Axes>"
      ],
      "image/png": "[encoded data removed]"
     },
     "metadata": {},
     "output_type": "display_data"
    },
    {
     "data": {
      "text/plain": [
       "<sympy.plotting.backends.matplotlibbackend.matplotlib.MatplotlibBackend at 0x320f93950>"
      ]
     },
     "execution_count": 173,
     "metadata": {},
     "output_type": "execute_result"
    }
   ],
   "execution_count": 173
  },
  {
   "cell_type": "code",
   "metadata": {
    "ExecuteTime": {
     "end_time": "2025-02-23T06:19:19.335800Z",
     "start_time": "2025-02-23T06:19:19.328415Z"
    }
   },
   "source": [
    "# I copied this example from pages 237-238 from Essential Math for Data Science\n",
    "import numpy as np\n",
    "import pandas as pd\n",
    "from sklearn.model_selection import train_test_split\n",
    "\n",
    "all_data = pd.read_csv(\"light_dark_font_training_set.csv\")\n",
    "#all_data = all_data[:50]\n",
    "#print(all_data)\n",
    "\n",
    "# Extract the input columns; scale down by 255\n",
    "X = (all_data.iloc[:, 0:3].values/255.0)\n",
    "y = (all_data.iloc[:, -1].values)\n",
    "\n",
    "# Split training and testing data sets\n",
    "X_train, X_test, y_train, y_test = train_test_split( X, y, test_size = 0.2, random_state=4)\n",
    "\n",
    "n = X_train.shape[0] # Number of training records\n",
    "\n",
    "# Build neural network with weights and biases\n",
    "w_hidden = np.random.rand(3, 3)\n",
    "w_output = np.random.rand(1, 3)\n",
    "b_hidden = np.random.rand(3, 1)\n",
    "b_output = np.random.rand(1, 1)\n",
    "\n",
    "# Activation functions\n",
    "relu = lambda x: np.maximum(x, 0)\n",
    "logistic = lambda x: 1/(1 + np.exp(-x))\n",
    "\n",
    "# Run forward propagation through the neural network to get predicted outputs.\n",
    "# Note: the '@' operator the matrix multiplication operator in Python\n",
    "def forward_prop(X):\n",
    "    #print(\"*****************\")\n",
    "    #print(X)\n",
    "    Z1 = w_hidden @ X + b_hidden\n",
    "    A1 = relu(Z1)\n",
    "    Z2 = w_output @ A1 + b_output\n",
    "    A2 = logistic(Z2)\n",
    "    return Z1, A1, Z2, A2\n",
    "\n",
    "# Calculate accuracy\n",
    "#print(X_test)\n",
    "test_predictions = forward_prop(X_test.transpose())[3] # Retrieve output layer (i.e. A2)\n",
    "#print(test_predictions)\n",
    "test_comparisons = np.equal((test_predictions >= .5).flatten().astype(int), y_test)\n",
    "accuracy = sum(test_comparisons.astype(int) / X_test.shape[0])\n",
    "print(\"\\nAccuracy: {0:.2f}%\".format(accuracy * 100))\n",
    "\n",
    "#print(test_predictions)\n",
    "#print(test_comparisons)\n"
   ],
   "outputs": [
    {
     "name": "stdout",
     "output_type": "stream",
     "text": [
      "\n",
      "Accuracy: 60.59%\n"
     ]
    }
   ],
   "execution_count": 174
  },
  {
   "cell_type": "code",
   "metadata": {
    "ExecuteTime": {
     "end_time": "2025-02-23T06:26:23.618057Z",
     "start_time": "2025-02-23T06:26:23.611540Z"
    }
   },
   "source": [
    "import numpy as np\n",
    "\n",
    "# Initialize the neural network with random weights and biases\n",
    "def initialize_network(num_inputs, num_hidden_layers, num_nodes_hidden, num_nodes_output):\n",
    "    num_nodes_previous = num_inputs\n",
    "    network = {}\n",
    "\n",
    "    for layer in range(num_hidden_layers + 1):\n",
    "        if layer == num_hidden_layers:\n",
    "            layer_name = 'output'\n",
    "            num_nodes = num_nodes_output\n",
    "        else:\n",
    "            layer_name = f'layer_{layer + 1}'\n",
    "            num_nodes = num_nodes_hidden[layer]\n",
    "\n",
    "        network[layer_name] = {\n",
    "            'weights': np.random.randn(num_nodes, num_nodes_previous),  # Initialize weights\n",
    "            'biases': np.zeros((num_nodes, 1))  # Initialize biases as zero\n",
    "        }\n",
    "\n",
    "        num_nodes_previous = num_nodes\n",
    "\n",
    "    return network\n",
    "\n",
    "# Sigmoid activation function\n",
    "def sigmoid(x):\n",
    "    return 1 / (1 + np.exp(-x))\n",
    "\n",
    "# Forward propagation through the network\n",
    "def forward_propagate(network, inputs, activation_function):\n",
    "    layer_inputs = inputs.T  # Transpose to match weight dimensions (n_features, n_samples)\n",
    "\n",
    "    for layer_name, layer_params in network.items():\n",
    "        weights = layer_params['weights']\n",
    "        biases = layer_params['biases']\n",
    "\n",
    "        # Compute the weighted sum\n",
    "        weighted_sum = np.dot(weights, layer_inputs) + biases  # Matrix multiplication\n",
    "        layer_outputs = activation_function(weighted_sum)  # Apply activation function\n",
    "\n",
    "        # Store the outputs of this layer for the next layer\n",
    "        layer_inputs = layer_outputs\n",
    "\n",
    "    return layer_inputs.T  # Return the final output (transpose back)\n",
    "\n",
    "\n",
    "# Sample data: 18 samples with RGB features and target labels\n",
    "data = np.array([\n",
    "    [0, 0, 0, 0],\n",
    "    [0, 0, 128, 0],\n",
    "    [0, 0, 139, 0],\n",
    "    [0, 0, 205, 0],\n",
    "    [0, 0, 238, 0],\n",
    "    [0, 0, 255, 0],\n",
    "    [0, 100, 0, 0],\n",
    "    [0, 104, 139, 0],\n",
    "    [0, 128, 0, 0],\n",
    "    [0, 128, 128, 0],\n",
    "    [0, 134, 139, 0],\n",
    "    [0, 139, 0, 0],\n",
    "    [0, 139, 139, 0],\n",
    "    [0, 139, 69, 0],\n",
    "    [0, 154, 205, 0],\n",
    "    [0, 178, 238, 1],\n",
    "    [0, 191, 255, 1],\n",
    "    [0, 197, 205, 1]\n",
    "])\n",
    "\n",
    "# Split data into inputs (X) and labels (y)\n",
    "X = data[:, :-1]  # All rows, first 3 columns (RGB values)\n",
    "y = data[:, -1]   # All rows, last column (light/dark label)\n",
    "\n",
    "# Network configuration\n",
    "num_inputs = X.shape[1]  # 3 (RGB)\n",
    "num_hidden_layers = 3\n",
    "num_nodes_hidden = [4, 3, 3]  # Example hidden layer sizes\n",
    "num_nodes_output = 1  # Single output node (light/dark)\n",
    "\n",
    "# Initialize the network\n",
    "network = initialize_network(num_inputs, num_hidden_layers, num_nodes_hidden, num_nodes_output)\n",
    "\n",
    "# Forward propagation for a single input\n",
    "predictions = forward_propagate(network, X, sigmoid)\n",
    "\n",
    "print(\"\\nPredictions:\")\n",
    "print(predictions)"
   ],
   "outputs": [
    {
     "name": "stdout",
     "output_type": "stream",
     "text": [
      "\n",
      "Predictions:\n",
      "[[0.61126731]\n",
      " [0.60988055]\n",
      " [0.60988055]\n",
      " [0.60988055]\n",
      " [0.60988055]\n",
      " [0.60988055]\n",
      " [0.61063103]\n",
      " [0.61063102]\n",
      " [0.61063103]\n",
      " [0.61063103]\n",
      " [0.61063103]\n",
      " [0.61063103]\n",
      " [0.61063103]\n",
      " [0.61063103]\n",
      " [0.61063103]\n",
      " [0.61063103]\n",
      " [0.61063103]\n",
      " [0.61063103]]\n"
     ]
    }
   ],
   "execution_count": 182
  },
  {
   "metadata": {
    "ExecuteTime": {
     "end_time": "2025-02-23T06:25:50.134317Z",
     "start_time": "2025-02-23T06:25:50.106657Z"
    }
   },
   "cell_type": "code",
   "source": [
    "import numpy as np\n",
    "import pandas as pd\n",
    "\n",
    "# Sigmoid and its derivative for activation and backpropagation\n",
    "def sigmoid(x):\n",
    "    return 1 / (1 + np.exp(-x))\n",
    "\n",
    "def sigmoid_derivative(x):\n",
    "    return x * (1 - x)\n",
    "\n",
    "# Initialize network\n",
    "def initialize_network(input_size, hidden_size, output_size):\n",
    "    network = {\n",
    "        'layer_1': {\n",
    "            'weights': np.random.randn(hidden_size, input_size),\n",
    "            'biases': np.zeros((hidden_size, 1))\n",
    "        },\n",
    "        'layer_2': {\n",
    "            'weights': np.random.randn(hidden_size, hidden_size),\n",
    "            'biases': np.zeros((hidden_size, 1))\n",
    "        },\n",
    "        'output': {\n",
    "            'weights': np.random.randn(output_size, hidden_size),\n",
    "            'biases': np.zeros((output_size, 1))\n",
    "        }\n",
    "    }\n",
    "    return network\n",
    "\n",
    "# Forward propagation\n",
    "def forward_propagate(network, X, activation_func):\n",
    "    layer_1_input = X.dot(network['layer_1']['weights'].T) + network['layer_1']['biases'].T\n",
    "    layer_1_output = activation_func(layer_1_input)\n",
    "\n",
    "    layer_2_input = layer_1_output.dot(network['layer_2']['weights'].T) + network['layer_2']['biases'].T\n",
    "    layer_2_output = activation_func(layer_2_input)\n",
    "\n",
    "    output_input = layer_2_output.dot(network['output']['weights'].T) + network['output']['biases'].T\n",
    "    output = activation_func(output_input)\n",
    "\n",
    "    return output, [layer_1_output, layer_2_output]\n",
    "\n",
    "# Backpropagation to update weights and biases\n",
    "def backpropagate(network, X, y, learning_rate):\n",
    "    # Forward propagation to get outputs\n",
    "    output, [layer_1_output, layer_2_output] = forward_propagate(network, X, sigmoid)\n",
    "\n",
    "    # Calculate the error at the output layer\n",
    "    error = y - output\n",
    "    dz = error * sigmoid_derivative(output)  # Shape: (1345, 1)\n",
    "\n",
    "    # Update weights and biases for the output layer\n",
    "    network['output']['weights'] += learning_rate * layer_2_output.T.dot(dz)  # Shape: (4, 1345).dot(1345, 1) => (4, 1)\n",
    "    network['output']['biases'] += learning_rate * np.sum(dz, axis=0, keepdims=True)  # Bias update for the output layer, Shape: (1, 1)\n",
    "\n",
    "    # Backpropagate the error to layer 2\n",
    "    dz_next_layer = dz.dot(network['output']['weights'].T)  # (1345, 1) dot (1, 4) => (1345, 4)\n",
    "    dz = dz_next_layer * sigmoid_derivative(layer_2_output)  # Shape: (1345, 4)\n",
    "    network['layer_2']['weights'] += learning_rate * layer_1_output.T.dot(dz)  # Shape: (3, 4)\n",
    "    network['layer_2']['biases'] += learning_rate * np.sum(dz, axis=0, keepdims=True)  # Bias update for layer 2\n",
    "\n",
    "    # Backpropagate to layer 1\n",
    "    dz_next_layer = dz.dot(network['layer_2']['weights'].T)  # (1345, 4) dot (4, 3) => (1345, 3)\n",
    "    dz = dz_next_layer * sigmoid_derivative(layer_1_output)  # Shape: (1345, 3)\n",
    "    network['layer_1']['weights'] += learning_rate * X.T.dot(dz)  # Shape: (3, 3)\n",
    "    network['layer_1']['biases'] += learning_rate * np.sum(dz, axis=0, keepdims=True)  # Bias update for layer 1\n",
    "\n",
    "    return error\n",
    "\n",
    "# Train the network\n",
    "def train_network(network, X, y, epochs=1000, learning_rate=0.01):\n",
    "    for epoch in range(epochs):\n",
    "        error = backpropagate(network, X, y, learning_rate)\n",
    "        if epoch % 100 == 0:\n",
    "            print(f\"Epoch {epoch}: Mean Squared Error = {np.mean(error ** 2)}\")\n",
    "\n",
    "# Load the data from the CSV file\n",
    "def load_data(file_name):\n",
    "    df = pd.read_csv(file_name)\n",
    "    # Extract features (RED, GREEN, BLUE) and target (LIGHT_OR_DARK_FONT_IND)\n",
    "    X = df[['RED', 'GREEN', 'BLUE']].values\n",
    "    y = df['LIGHT_OR_DARK_FONT_IND'].values.reshape(-1, 1)\n",
    "    return X, y\n",
    "\n",
    "# Load the dataset\n",
    "file_name = 'light_dark_font_training_set.csv'  # Replace with your actual file path\n",
    "X, y = load_data(file_name)\n",
    "\n",
    "# Initialize the network with input size = 3 (RGB), hidden size = 4, and output size = 1 (binary classification)\n",
    "network = initialize_network(input_size=3, hidden_size=4, output_size=1)\n",
    "\n",
    "# Train the network with the dataset\n",
    "train_network(network, X, y, epochs=1000, learning_rate=0.01)\n",
    "\n",
    "# Make predictions with the trained network\n",
    "predictions, _ = forward_propagate(network, X, sigmoid)\n",
    "print(\"Predictions: \", predictions)\n"
   ],
   "outputs": [
    {
     "ename": "ValueError",
     "evalue": "non-broadcastable output operand with shape (1,4) doesn't match the broadcast shape (4,4)",
     "output_type": "error",
     "traceback": [
      "\u001B[0;31m---------------------------------------------------------------------------\u001B[0m",
      "\u001B[0;31mValueError\u001B[0m                                Traceback (most recent call last)",
      "Cell \u001B[0;32mIn[179], line 92\u001B[0m\n\u001B[1;32m     89\u001B[0m network \u001B[38;5;241m=\u001B[39m initialize_network(input_size\u001B[38;5;241m=\u001B[39m\u001B[38;5;241m3\u001B[39m, hidden_size\u001B[38;5;241m=\u001B[39m\u001B[38;5;241m4\u001B[39m, output_size\u001B[38;5;241m=\u001B[39m\u001B[38;5;241m1\u001B[39m)\n\u001B[1;32m     91\u001B[0m \u001B[38;5;66;03m# Train the network with the dataset\u001B[39;00m\n\u001B[0;32m---> 92\u001B[0m \u001B[43mtrain_network\u001B[49m\u001B[43m(\u001B[49m\u001B[43mnetwork\u001B[49m\u001B[43m,\u001B[49m\u001B[43m \u001B[49m\u001B[43mX\u001B[49m\u001B[43m,\u001B[49m\u001B[43m \u001B[49m\u001B[43my\u001B[49m\u001B[43m,\u001B[49m\u001B[43m \u001B[49m\u001B[43mepochs\u001B[49m\u001B[38;5;241;43m=\u001B[39;49m\u001B[38;5;241;43m1000\u001B[39;49m\u001B[43m,\u001B[49m\u001B[43m \u001B[49m\u001B[43mlearning_rate\u001B[49m\u001B[38;5;241;43m=\u001B[39;49m\u001B[38;5;241;43m0.01\u001B[39;49m\u001B[43m)\u001B[49m\n\u001B[1;32m     94\u001B[0m \u001B[38;5;66;03m# Make predictions with the trained network\u001B[39;00m\n\u001B[1;32m     95\u001B[0m predictions, _ \u001B[38;5;241m=\u001B[39m forward_propagate(network, X, sigmoid)\n",
      "Cell \u001B[0;32mIn[179], line 72\u001B[0m, in \u001B[0;36mtrain_network\u001B[0;34m(network, X, y, epochs, learning_rate)\u001B[0m\n\u001B[1;32m     70\u001B[0m \u001B[38;5;28;01mdef\u001B[39;00m\u001B[38;5;250m \u001B[39m\u001B[38;5;21mtrain_network\u001B[39m(network, X, y, epochs\u001B[38;5;241m=\u001B[39m\u001B[38;5;241m1000\u001B[39m, learning_rate\u001B[38;5;241m=\u001B[39m\u001B[38;5;241m0.01\u001B[39m):\n\u001B[1;32m     71\u001B[0m     \u001B[38;5;28;01mfor\u001B[39;00m epoch \u001B[38;5;129;01min\u001B[39;00m \u001B[38;5;28mrange\u001B[39m(epochs):\n\u001B[0;32m---> 72\u001B[0m         error \u001B[38;5;241m=\u001B[39m \u001B[43mbackpropagate\u001B[49m\u001B[43m(\u001B[49m\u001B[43mnetwork\u001B[49m\u001B[43m,\u001B[49m\u001B[43m \u001B[49m\u001B[43mX\u001B[49m\u001B[43m,\u001B[49m\u001B[43m \u001B[49m\u001B[43my\u001B[49m\u001B[43m,\u001B[49m\u001B[43m \u001B[49m\u001B[43mlearning_rate\u001B[49m\u001B[43m)\u001B[49m\n\u001B[1;32m     73\u001B[0m         \u001B[38;5;28;01mif\u001B[39;00m epoch \u001B[38;5;241m%\u001B[39m \u001B[38;5;241m100\u001B[39m \u001B[38;5;241m==\u001B[39m \u001B[38;5;241m0\u001B[39m:\n\u001B[1;32m     74\u001B[0m             \u001B[38;5;28mprint\u001B[39m(\u001B[38;5;124mf\u001B[39m\u001B[38;5;124m\"\u001B[39m\u001B[38;5;124mEpoch \u001B[39m\u001B[38;5;132;01m{\u001B[39;00mepoch\u001B[38;5;132;01m}\u001B[39;00m\u001B[38;5;124m: Mean Squared Error = \u001B[39m\u001B[38;5;132;01m{\u001B[39;00mnp\u001B[38;5;241m.\u001B[39mmean(error\u001B[38;5;250m \u001B[39m\u001B[38;5;241m*\u001B[39m\u001B[38;5;241m*\u001B[39m\u001B[38;5;250m \u001B[39m\u001B[38;5;241m2\u001B[39m)\u001B[38;5;132;01m}\u001B[39;00m\u001B[38;5;124m\"\u001B[39m)\n",
      "Cell \u001B[0;32mIn[179], line 52\u001B[0m, in \u001B[0;36mbackpropagate\u001B[0;34m(network, X, y, learning_rate)\u001B[0m\n\u001B[1;32m     49\u001B[0m dz \u001B[38;5;241m=\u001B[39m error \u001B[38;5;241m*\u001B[39m sigmoid_derivative(output)  \u001B[38;5;66;03m# Shape: (1345, 1)\u001B[39;00m\n\u001B[1;32m     51\u001B[0m \u001B[38;5;66;03m# Update weights and biases for the output layer\u001B[39;00m\n\u001B[0;32m---> 52\u001B[0m \u001B[43mnetwork\u001B[49m\u001B[43m[\u001B[49m\u001B[38;5;124;43m'\u001B[39;49m\u001B[38;5;124;43moutput\u001B[39;49m\u001B[38;5;124;43m'\u001B[39;49m\u001B[43m]\u001B[49m\u001B[43m[\u001B[49m\u001B[38;5;124;43m'\u001B[39;49m\u001B[38;5;124;43mweights\u001B[39;49m\u001B[38;5;124;43m'\u001B[39;49m\u001B[43m]\u001B[49m\u001B[43m \u001B[49m\u001B[38;5;241;43m+\u001B[39;49m\u001B[38;5;241;43m=\u001B[39;49m\u001B[43m \u001B[49m\u001B[43mlearning_rate\u001B[49m\u001B[43m \u001B[49m\u001B[38;5;241;43m*\u001B[39;49m\u001B[43m \u001B[49m\u001B[43mlayer_2_output\u001B[49m\u001B[38;5;241;43m.\u001B[39;49m\u001B[43mT\u001B[49m\u001B[38;5;241;43m.\u001B[39;49m\u001B[43mdot\u001B[49m\u001B[43m(\u001B[49m\u001B[43mdz\u001B[49m\u001B[43m)\u001B[49m  \u001B[38;5;66;03m# Shape: (4, 1345).dot(1345, 1) => (4, 1)\u001B[39;00m\n\u001B[1;32m     53\u001B[0m network[\u001B[38;5;124m'\u001B[39m\u001B[38;5;124moutput\u001B[39m\u001B[38;5;124m'\u001B[39m][\u001B[38;5;124m'\u001B[39m\u001B[38;5;124mbiases\u001B[39m\u001B[38;5;124m'\u001B[39m] \u001B[38;5;241m+\u001B[39m\u001B[38;5;241m=\u001B[39m learning_rate \u001B[38;5;241m*\u001B[39m np\u001B[38;5;241m.\u001B[39msum(dz, axis\u001B[38;5;241m=\u001B[39m\u001B[38;5;241m0\u001B[39m, keepdims\u001B[38;5;241m=\u001B[39m\u001B[38;5;28;01mTrue\u001B[39;00m)  \u001B[38;5;66;03m# Bias update for the output layer, Shape: (1, 1)\u001B[39;00m\n\u001B[1;32m     55\u001B[0m \u001B[38;5;66;03m# Backpropagate the error to layer 2\u001B[39;00m\n",
      "\u001B[0;31mValueError\u001B[0m: non-broadcastable output operand with shape (1,4) doesn't match the broadcast shape (4,4)"
     ]
    }
   ],
   "execution_count": 179
  },
  {
   "cell_type": "markdown",
   "metadata": {},
   "source": [
    "\n",
    "## Change Log\n",
    "\n",
    "|  Date (YYYY-MM-DD) |  Version | Changed By  |  Change Description |\n",
    "|---|---|---|---|\n",
    "| 2020-09-21  | 2.0  | Srishti  |  Migrated Lab to Markdown and added to course repo in GitLab |\n",
    "\n",
    "\n",
    "\n",
    "<hr>\n",
    "\n",
    "## <h3 align=\"center\"> © IBM Corporation 2020. All rights reserved. <h3/>\n"
   ]
  },
  {
   "cell_type": "markdown",
   "metadata": {},
   "source": [
    "This notebook is part of a course on **Coursera** called *Introduction to Deep Learning & Neural Networks with Keras*. If you accessed this notebook outside the course, you can take this course online by clicking [here](https://cocl.us/DL0101EN_Coursera_Week1_LAB1).\n"
   ]
  },
  {
   "cell_type": "markdown",
   "metadata": {},
   "source": [
    "<hr>\n",
    "\n",
    "Copyright &copy; 2019 [IBM Developer Skills Network](https://cognitiveclass.ai/?utm_medium=dswb&utm_source=bducopyrightlink&utm_content=000026UJ&utm_term=10006555&utm_id=NA-SkillsNetwork-Channel-SkillsNetworkCoursesIBMDeveloperSkillsNetworkDL0101ENSkillsNetwork945-2022-01-01&utm_campaign=bdu). This notebook and its source code are released under the terms of the [MIT License](https://bigdatauniversity.com/mit-license/?utm_medium=Exinfluencer&utm_source=Exinfluencer&utm_content=000026UJ&utm_term=10006555&utm_id=NA-SkillsNetwork-Channel-SkillsNetworkCoursesIBMDeveloperSkillsNetworkDL0101ENSkillsNetwork945-2022-01-01).\n"
   ]
  },
  {
   "cell_type": "code",
   "execution_count": null,
   "metadata": {},
   "outputs": [],
   "source": []
  }
 ],
 "metadata": {
  "kernelspec": {
   "display_name": "Python 3 (ipykernel)",
   "language": "python",
   "name": "python3"
  },
  "language_info": {
   "codemirror_mode": {
    "name": "ipython",
    "version": 3
   },
   "file_extension": ".py",
   "mimetype": "text/x-python",
   "name": "python",
   "nbconvert_exporter": "python",
   "pygments_lexer": "ipython3",
   "version": "3.13.1"
  }
 },
 "nbformat": 4,
 "nbformat_minor": 4
}
