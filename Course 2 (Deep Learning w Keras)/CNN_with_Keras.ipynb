{
 "cells": [
  {
   "cell_type": "markdown",
   "metadata": {},
   "source": [
    "<a href=\"https://cognitiveclass.ai/?utm_medium=Exinfluencer&utm_source=Exinfluencer&utm_content=000026UJ&utm_term=10006555&utm_id=NA-SkillsNetwork-Channel-SkillsNetworkCoursesIBMDeveloperSkillsNetworkDL0101ENSkillsNetwork945-2022-01-01\"><img src=\"https://cf-courses-data.s3.us.cloud-object-storage.appdomain.cloud/IBMDeveloperSkillsNetwork-DL0101EN-SkillsNetwork/images/IDSN-logo.png\" width=\"400\"> </a>\n",
    "\n",
    "<h1 align=center><font size = 5>Convolutional Neural Networks with Keras</font></h1>\n"
   ]
  },
  {
   "cell_type": "markdown",
   "metadata": {},
   "source": [
    "In this lab, we will learn how to use the Keras library to build convolutional neural networks. We will also use the popular MNIST dataset and we will compare our results to using a conventional neural network.\n"
   ]
  },
  {
   "cell_type": "markdown",
   "metadata": {},
   "source": [
    "<h2>Convolutional Neural Networks with Keras</h2>\n",
    "\n",
    "<h3>Objective for this Notebook<h3>    \n",
    "<h5> 1. How to use the Keras library to build convolutional neural networks.</h5>\n",
    "<h5> 2. Convolutional Neural Network with One Convolutional and Pooling Layers.</h5>\n",
    "<h5> 3. Convolutional Neural Network with Two Convolutional and Pooling Layers.</h5>\n",
    "\n"
   ]
  },
  {
   "cell_type": "markdown",
   "metadata": {},
   "source": [
    "## Table of Contents\n",
    "\n",
    "<div class=\"alert alert-block alert-info\" style=\"margin-top: 20px\">\n",
    "\n",
    "<font size = 3>\n",
    "      \n",
    "1. <a href=\"#item41\">Import Keras and Packages</a>   \n",
    "2. <a href=\"#item42\">Convolutional Neural Network with One Convolutional and Pooling Layers</a>  \n",
    "3. <a href=\"#item43\">Convolutional Neural Network with Two Convolutional and Pooling Layers</a>  \n",
    "\n",
    "</font>\n",
    "</div>\n"
   ]
  },
  {
   "cell_type": "markdown",
   "metadata": {},
   "source": [
    "<a id='item41'></a>\n"
   ]
  },
  {
   "cell_type": "markdown",
   "metadata": {},
   "source": [
    "## Import Keras and Packages\n"
   ]
  },
  {
   "cell_type": "markdown",
   "metadata": {},
   "source": [
    "Let's start by importing the keras libraries and the packages that we would need to build a neural network.\n"
   ]
  },
  {
   "cell_type": "code",
   "metadata": {
    "ExecuteTime": {
     "end_time": "2025-02-23T21:57:31.586197Z",
     "start_time": "2025-02-23T21:57:31.584220Z"
    }
   },
   "source": [
    "# All Libraries required for this lab are listed below. The libraries pre-installed on Skills Network Labs are commented. \n# If you run this notebook on a different environment, e.g. your desktop, you may need to uncomment and install certain libraries.\n\n#!pip install numpy==1.21.4\n#!pip install pandas==1.3.4\n#!pip install keras==2.1.6"
   ],
   "outputs": [],
   "execution_count": 28
  },
  {
   "metadata": {
    "ExecuteTime": {
     "end_time": "2025-02-23T21:57:31.599067Z",
     "start_time": "2025-02-23T21:57:31.597011Z"
    }
   },
   "cell_type": "code",
   "source": [
    "import warnings\n",
    "# Suppress UserWarning messages\n",
    "warnings.filterwarnings(\"ignore\", category=UserWarning)\n",
    "\n",
    "# Suppress FutureWarning messages\n",
    "warnings.filterwarnings(\"ignore\", category=FutureWarning)"
   ],
   "outputs": [],
   "execution_count": 29
  },
  {
   "metadata": {
    "ExecuteTime": {
     "end_time": "2025-02-23T21:57:31.607525Z",
     "start_time": "2025-02-23T21:57:31.605651Z"
    }
   },
   "cell_type": "code",
   "source": [
    "import keras\n",
    "from keras.models import Sequential\n",
    "from keras.layers import Dense\n",
    "from keras.utils import to_categorical"
   ],
   "outputs": [],
   "execution_count": 30
  },
  {
   "metadata": {},
   "cell_type": "markdown",
   "source": "When working with convolutional neural networks in particular, we will need additional packages.\n"
  },
  {
   "metadata": {
    "ExecuteTime": {
     "end_time": "2025-02-23T21:57:31.619671Z",
     "start_time": "2025-02-23T21:57:31.618254Z"
    }
   },
   "cell_type": "code",
   "source": [
    "from tensorflow.keras.layers import Conv2D\n",
    "from tensorflow.keras.layers import MaxPooling2D\n",
    "from tensorflow.keras.layers import Conv2D"
   ],
   "outputs": [],
   "execution_count": 31
  },
  {
   "metadata": {
    "ExecuteTime": {
     "end_time": "2025-02-23T21:57:31.623217Z",
     "start_time": "2025-02-23T21:57:31.621684Z"
    }
   },
   "cell_type": "code",
   "source": [
    "import ssl\n",
    "import certifi\n",
    "ssl._create_default_https_context = lambda: ssl.create_default_context(cafile=certifi.where())"
   ],
   "outputs": [],
   "execution_count": 32
  },
  {
   "metadata": {},
   "cell_type": "markdown",
   "source": "<a id='item42'></a>\n"
  },
  {
   "metadata": {},
   "cell_type": "markdown",
   "source": "## Convolutional Layer with One set of convolutional and pooling layers\n"
  },
  {
   "metadata": {
    "ExecuteTime": {
     "end_time": "2025-02-23T21:57:31.714071Z",
     "start_time": "2025-02-23T21:57:31.628367Z"
    }
   },
   "cell_type": "code",
   "source": [
    "#import ssl\n",
    "#ssl._create_default_https_context = ssl._create_unverified_context\n",
    "\n",
    "# import data\n",
    "from keras.datasets import mnist\n",
    "\n",
    "# load data\n",
    "(X_train, y_train), (X_test, y_test) = mnist.load_data()\n",
    "\n",
    "# reshape to be [samples][pixels][width][height]\n",
    "X_train = X_train.reshape(X_train.shape[0], 28, 28, 1).astype('float32')\n",
    "X_test = X_test.reshape(X_test.shape[0], 28, 28, 1).astype('float32')\n",
    "print('X_train shape:', X_train.shape)"
   ],
   "outputs": [
    {
     "name": "stdout",
     "output_type": "stream",
     "text": [
      "X_train shape: (60000, 28, 28, 1)\n"
     ]
    }
   ],
   "execution_count": 33
  },
  {
   "metadata": {},
   "cell_type": "markdown",
   "source": "Let's normalize the pixel values to be between 0 and 1\n"
  },
  {
   "cell_type": "code",
   "metadata": {
    "ExecuteTime": {
     "end_time": "2025-02-23T21:57:31.739253Z",
     "start_time": "2025-02-23T21:57:31.719796Z"
    }
   },
   "source": [
    "X_train = X_train / 255 # normalize training data\nX_test = X_test / 255 # normalize test data"
   ],
   "outputs": [],
   "execution_count": 34
  },
  {
   "cell_type": "markdown",
   "metadata": {},
   "source": [
    "Next, let's convert the target variable into binary categories\n"
   ]
  },
  {
   "cell_type": "code",
   "metadata": {
    "ExecuteTime": {
     "end_time": "2025-02-23T21:57:31.747382Z",
     "start_time": "2025-02-23T21:57:31.744824Z"
    }
   },
   "source": [
    "y_train = to_categorical(y_train)\ny_test = to_categorical(y_test)\n\nnum_classes = y_test.shape[1] # number of categories"
   ],
   "outputs": [],
   "execution_count": 35
  },
  {
   "cell_type": "markdown",
   "metadata": {},
   "source": [
    "Next, let's define a function that creates our model. Let's start with one set of convolutional and pooling layers.\n"
   ]
  },
  {
   "cell_type": "code",
   "metadata": {
    "ExecuteTime": {
     "end_time": "2025-02-23T21:57:31.753989Z",
     "start_time": "2025-02-23T21:57:31.752207Z"
    }
   },
   "source": [
    "def convolutional_model():\n    \n    # create model\n    model = Sequential()\n    model.add(Conv2D(16, (5, 5), strides=(1, 1), activation='relu', input_shape=(28, 28, 1)))\n    model.add(MaxPooling2D(pool_size=(2, 2), strides=(2, 2)))\n    \n    model.add(Flatten())\n    model.add(Dense(100, activation='relu'))\n    model.add(Dense(num_classes, activation='softmax'))\n    \n    # compile model\n    model.compile(optimizer='adam', loss='categorical_crossentropy',  metrics=['accuracy'])\n    return model"
   ],
   "outputs": [],
   "execution_count": 36
  },
  {
   "cell_type": "markdown",
   "metadata": {},
   "source": [
    "Finally, let's call the function to create the model, and then let's train it and evaluate it.\n"
   ]
  },
  {
   "cell_type": "code",
   "metadata": {
    "ExecuteTime": {
     "end_time": "2025-02-23T21:57:51.490493Z",
     "start_time": "2025-02-23T21:57:31.758589Z"
    }
   },
   "source": [
    "# build the model\nmodel = convolutional_model()\n\n# fit the model\nmodel.fit(X_train, y_train, validation_data=(X_test, y_test), epochs=10, batch_size=200, verbose=2)\n\n# evaluate the model\nscores = model.evaluate(X_test, y_test, verbose=0)\nprint(\"Accuracy: {} \\n Error: {}\".format(scores[1], 100-scores[1]*100))"
   ],
   "outputs": [
    {
     "name": "stdout",
     "output_type": "stream",
     "text": [
      "Epoch 1/10\n",
      "300/300 - 2s - 7ms/step - accuracy: 0.9172 - loss: 0.2993 - val_accuracy: 0.9704 - val_loss: 0.1000\n",
      "Epoch 2/10\n",
      "300/300 - 2s - 6ms/step - accuracy: 0.9746 - loss: 0.0862 - val_accuracy: 0.9791 - val_loss: 0.0627\n",
      "Epoch 3/10\n",
      "300/300 - 2s - 6ms/step - accuracy: 0.9836 - loss: 0.0564 - val_accuracy: 0.9831 - val_loss: 0.0507\n",
      "Epoch 4/10\n",
      "300/300 - 2s - 6ms/step - accuracy: 0.9866 - loss: 0.0442 - val_accuracy: 0.9845 - val_loss: 0.0484\n",
      "Epoch 5/10\n",
      "300/300 - 2s - 6ms/step - accuracy: 0.9887 - loss: 0.0364 - val_accuracy: 0.9866 - val_loss: 0.0402\n",
      "Epoch 6/10\n",
      "300/300 - 2s - 6ms/step - accuracy: 0.9911 - loss: 0.0294 - val_accuracy: 0.9855 - val_loss: 0.0404\n",
      "Epoch 7/10\n",
      "300/300 - 2s - 6ms/step - accuracy: 0.9920 - loss: 0.0261 - val_accuracy: 0.9868 - val_loss: 0.0378\n",
      "Epoch 8/10\n",
      "300/300 - 2s - 6ms/step - accuracy: 0.9937 - loss: 0.0213 - val_accuracy: 0.9879 - val_loss: 0.0384\n",
      "Epoch 9/10\n",
      "300/300 - 2s - 6ms/step - accuracy: 0.9947 - loss: 0.0179 - val_accuracy: 0.9878 - val_loss: 0.0348\n",
      "Epoch 10/10\n",
      "300/300 - 2s - 6ms/step - accuracy: 0.9955 - loss: 0.0147 - val_accuracy: 0.9889 - val_loss: 0.0348\n",
      "Accuracy: 0.9889000058174133 \n",
      " Error: 1.109999418258667\n"
     ]
    }
   ],
   "execution_count": 37
  },
  {
   "cell_type": "markdown",
   "metadata": {},
   "source": [
    "------------------------------------------\n"
   ]
  },
  {
   "cell_type": "markdown",
   "metadata": {},
   "source": [
    "<a id='item43'></a>\n"
   ]
  },
  {
   "cell_type": "markdown",
   "metadata": {},
   "source": [
    "## Convolutional Layer with two sets of convolutional and pooling layers\n"
   ]
  },
  {
   "cell_type": "markdown",
   "metadata": {},
   "source": [
    "Let's redefine our convolutional model so that it has two convolutional and pooling layers instead of just one layer of each.\n"
   ]
  },
  {
   "cell_type": "code",
   "metadata": {
    "ExecuteTime": {
     "end_time": "2025-02-23T21:57:51.497994Z",
     "start_time": "2025-02-23T21:57:51.495708Z"
    }
   },
   "source": [
    "def convolutional_model():\n    \n    # create model\n    model = Sequential()\n    model.add(Conv2D(16, (5, 5), activation='relu', input_shape=(28, 28, 1)))\n    model.add(MaxPooling2D(pool_size=(2, 2), strides=(2, 2)))\n    \n    model.add(Conv2D(8, (2, 2), activation='relu'))\n    model.add(MaxPooling2D(pool_size=(2, 2), strides=(2, 2)))\n    \n    model.add(Flatten())\n    model.add(Dense(100, activation='relu'))\n    model.add(Dense(num_classes, activation='softmax'))\n    \n    # Compile model\n    model.compile(optimizer='adam', loss='categorical_crossentropy',  metrics=['accuracy'])\n    return model"
   ],
   "outputs": [],
   "execution_count": 38
  },
  {
   "cell_type": "markdown",
   "metadata": {},
   "source": [
    "Now, let's call the function to create our new convolutional neural network, and then let's train it and evaluate it.\n"
   ]
  },
  {
   "cell_type": "code",
   "metadata": {
    "ExecuteTime": {
     "end_time": "2025-02-23T21:58:15.738508Z",
     "start_time": "2025-02-23T21:57:51.502813Z"
    }
   },
   "source": [
    "# build the model\nmodel = convolutional_model()\n\n# fit the model\nmodel.fit(X_train, y_train, validation_data=(X_test, y_test), epochs=10, batch_size=200, verbose=2)\n\n# evaluate the model\nscores = model.evaluate(X_test, y_test, verbose=0)\nprint(\"Accuracy: {} \\n Error: {}\".format(scores[1], 100-scores[1]*100))"
   ],
   "outputs": [
    {
     "name": "stdout",
     "output_type": "stream",
     "text": [
      "Epoch 1/10\n",
      "300/300 - 3s - 9ms/step - accuracy: 0.8669 - loss: 0.4640 - val_accuracy: 0.9552 - val_loss: 0.1526\n",
      "Epoch 2/10\n",
      "300/300 - 2s - 8ms/step - accuracy: 0.9614 - loss: 0.1301 - val_accuracy: 0.9705 - val_loss: 0.0944\n",
      "Epoch 3/10\n",
      "300/300 - 2s - 8ms/step - accuracy: 0.9727 - loss: 0.0907 - val_accuracy: 0.9756 - val_loss: 0.0788\n",
      "Epoch 4/10\n",
      "300/300 - 2s - 8ms/step - accuracy: 0.9791 - loss: 0.0704 - val_accuracy: 0.9821 - val_loss: 0.0573\n",
      "Epoch 5/10\n",
      "300/300 - 2s - 8ms/step - accuracy: 0.9824 - loss: 0.0596 - val_accuracy: 0.9811 - val_loss: 0.0582\n",
      "Epoch 6/10\n",
      "300/300 - 2s - 8ms/step - accuracy: 0.9852 - loss: 0.0510 - val_accuracy: 0.9833 - val_loss: 0.0497\n",
      "Epoch 7/10\n",
      "300/300 - 2s - 8ms/step - accuracy: 0.9858 - loss: 0.0476 - val_accuracy: 0.9829 - val_loss: 0.0500\n",
      "Epoch 8/10\n",
      "300/300 - 2s - 8ms/step - accuracy: 0.9873 - loss: 0.0410 - val_accuracy: 0.9866 - val_loss: 0.0384\n",
      "Epoch 9/10\n",
      "300/300 - 2s - 8ms/step - accuracy: 0.9886 - loss: 0.0372 - val_accuracy: 0.9865 - val_loss: 0.0421\n",
      "Epoch 10/10\n",
      "300/300 - 2s - 8ms/step - accuracy: 0.9897 - loss: 0.0342 - val_accuracy: 0.9865 - val_loss: 0.0402\n",
      "Accuracy: 0.9865000247955322 \n",
      " Error: 1.3499975204467773\n"
     ]
    }
   ],
   "execution_count": 39
  },
  {
   "cell_type": "markdown",
   "metadata": {},
   "source": [
    "### Thank you for completing this lab!\n",
    "\n",
    "This notebook was created by [Alex Aklson](https://www.linkedin.com/in/aklson/?utm_medium=Exinfluencer&utm_source=Exinfluencer&utm_content=000026UJ&utm_term=10006555&utm_id=NA-SkillsNetwork-Channel-SkillsNetworkCoursesIBMDeveloperSkillsNetworkDL0101ENSkillsNetwork945-2022-01-01). I hope you found this lab interesting and educational. Feel free to contact me if you have any questions!\n"
   ]
  },
  {
   "cell_type": "markdown",
   "metadata": {},
   "source": [
    "\n",
    "## Change Log\n",
    "\n",
    "|  Date (YYYY-MM-DD) |  Version | Changed By  |  Change Description |\n",
    "|---|---|---|---|\n",
    "| 2020-09-21  | 2.0  | Srishti  |  Migrated Lab to Markdown and added to course repo in GitLab |\n",
    "\n",
    "\n",
    "\n",
    "<hr>\n",
    "\n",
    "## <h3 align=\"center\"> © IBM Corporation 2020. All rights reserved. <h3/>\n"
   ]
  },
  {
   "cell_type": "markdown",
   "metadata": {},
   "source": [
    "This notebook is part of a course on **Coursera** called *Introduction to Deep Learning & Neural Networks with Keras*. If you accessed this notebook outside the course, you can take this course online by clicking [here](https://cocl.us/DL0101EN_Coursera_Week4_LAB1).\n"
   ]
  },
  {
   "cell_type": "markdown",
   "metadata": {},
   "source": [
    "<hr>\n",
    "\n",
    "Copyright &copy; 2019 [IBM Developer Skills Network](https://cognitiveclass.ai/?utm_medium=dswb&utm_source=bducopyrightlink&utm_content=000026UJ&utm_term=10006555&utm_id=NA-SkillsNetwork-Channel-SkillsNetworkCoursesIBMDeveloperSkillsNetworkDL0101ENSkillsNetwork945-2022-01-01&utm_campaign=bdu). This notebook and its source code are released under the terms of the [MIT License](https://bigdatauniversity.com/mit-license/?utm_medium=Exinfluencer&utm_source=Exinfluencer&utm_content=000026UJ&utm_term=10006555&utm_id=NA-SkillsNetwork-Channel-SkillsNetworkCoursesIBMDeveloperSkillsNetworkDL0101ENSkillsNetwork945-2022-01-01).\n"
   ]
  }
 ],
 "metadata": {
  "kernelspec": {
   "display_name": "Python 3 (ipykernel)",
   "language": "python",
   "name": "python3"
  },
  "language_info": {
   "name": ""
  }
 },
 "nbformat": 4,
 "nbformat_minor": 4
}
